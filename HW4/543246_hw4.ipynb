{
 "cells": [
  {
   "cell_type": "code",
   "execution_count": 78,
   "metadata": {},
   "outputs": [],
   "source": [
    "#import necessary libraries\n",
    "import numpy as np\n",
    "import pandas as pd\n",
    "from numpy import linalg as LA\n",
    "import matplotlib.pyplot as plt\n",
    "from sklearn import preprocessing\n",
    "from sklearn.metrics import accuracy_score\n",
    "\n",
    "from sklearn.datasets import load_svmlight_file"
   ]
  },
  {
   "cell_type": "code",
   "execution_count": 92,
   "metadata": {},
   "outputs": [],
   "source": [
    "def subgradloss(x, y, w):\n",
    "    xT = np.transpose(x) # change to col vector\n",
    "    d  = np.size(w1)-1\n",
    "    w  = w1[0:d]\n",
    "    b  = w1[d]\n",
    "    tmp = 1-y*(w@x.T+b) # choose subgrad of max(t,0) at 0 to be 1/2\n",
    "    tmp = (np.sign(tmp)+1)/2\n",
    "    tmp2 = np.concatenate((x,[1]))\n",
    "    tmp2 = -y*tmp2\n",
    "    tmp2 = tmp*tmp2\n",
    "    return tmp2   # a row vector"
   ]
  },
  {
   "cell_type": "code",
   "execution_count": 93,
   "metadata": {},
   "outputs": [],
   "source": [
    "def subgradreg(regparam, w): # w=w1[0:d]\n",
    "    return regparam * np.concatenate((w,[0])) "
   ]
  },
  {
   "cell_type": "code",
   "execution_count": 126,
   "metadata": {},
   "outputs": [],
   "source": [
    "def sgdmethod(X, y, subgradloss, subgradreg, regparam, w1, T, a, m):\n",
    "    d=np.size(w1)-1 # w1 is initial guess. m=1: SGD. m=n: sub-GD.\n",
    "    w=w1[0:d]\n",
    "    b=w1[d] \n",
    "    n=np.size(X[:,0])\n",
    "    w_hist=np.zeros((d+1,T)) # store all iterates (w1) for ite in np.arange(T):\n",
    "    w_avg=np.zeros((d+1,T))\n",
    "    for itr in np.arange(T):\n",
    "        index = np.random.choice(n,m,replace=False) # sample minibatch without replacement\n",
    "        batchloss_sum=np.zeros(d+1)\n",
    "        for i in index:\n",
    "            xi=X[i]\n",
    "            yi=y[i]\n",
    "            loss=subgradloss(xi,yi,w1) \n",
    "            batchloss_sum+=loss\n",
    "        batchloss_avg = batchloss_sum/m\n",
    "        grad = batchloss_avg+subgradreg(regparam,w)\n",
    "        alpha=1/(1+a*itr)\n",
    "        w1=w1-alpha*grad\n",
    "        w_hist[:,itr]=w1\n",
    "    for itr in np.arange(T):\n",
    "        w_avg[:,itr]=np.mean(w_hist[:,:itr//2])\n",
    "    return w_hist,w_avg\n",
    "\n",
    "    "
   ]
  },
  {
   "cell_type": "code",
   "execution_count": 127,
   "metadata": {},
   "outputs": [],
   "source": [
    "def obj(X,y,w1,regparam): #helper function for checking f(x)\n",
    "    n=np.size(X[:,0]) # 32561\n",
    "    ob=0\n",
    "    d=np.size(w1)-1 # 122\n",
    "    w=w1[0:d] \n",
    "    b=w1[d] \n",
    "    for i in np.arange(n):\n",
    "        xT=np.transpose(X[i]) \n",
    "        tmp=1-y[i]*(w@xT+b) \n",
    "        temp=np.maximum(tmp,0) \n",
    "        ob=ob+tmp\n",
    "        ob=ob/n\n",
    "        ob=ob+regparam/2*np.square(LA.norm(w))\n",
    "        return ob"
   ]
  },
  {
   "cell_type": "code",
   "execution_count": 128,
   "metadata": {},
   "outputs": [
    {
     "name": "stderr",
     "output_type": "stream",
     "text": [
      "/usr/local/lib/python3.7/site-packages/numpy/core/fromnumeric.py:3335: RuntimeWarning: Mean of empty slice.\n",
      "  out=out, **kwargs)\n",
      "/usr/local/lib/python3.7/site-packages/numpy/core/_methods.py:161: RuntimeWarning: invalid value encountered in double_scalars\n",
      "  ret = ret.dtype.type(ret / rcount)\n"
     ]
    }
   ],
   "source": [
    "def get_data(n):\n",
    "    data = load_svmlight_file(n)\n",
    "    return data[0].toarray(), data[1].reshape((data[1].shape[0], 1))\n",
    "\n",
    "\n",
    "X_train, y_train = get_data(\"a9a\")\n",
    "X_test, y_test = get_data(\"a9a.t\")\n",
    "X_train = np.delete(X_train, -1, 1)\n",
    "scaler = preprocessing.StandardScaler().fit(X_train)\n",
    "X_train = scaler.transform(X_train)\n",
    "X_test = scaler.transform(X_test)\n",
    "\n",
    "n = np.size(X_train[:,0]) # 32561\n",
    "d = np.size(X_train[0])\n",
    "regparam = 1/n # lambda\n",
    "w1 = np.zeros(d+1) # init (w,b)\n",
    "\n",
    "m = 32561\n",
    "T = (32561//m)*100\n",
    "a = 0.01\n",
    " \n",
    "w_hist, w_avg=sgdmethod(X_train, y_train, subgradloss, subgradreg, regparam, w1, T, a, m)\n"
   ]
  },
  {
   "cell_type": "code",
   "execution_count": 129,
   "metadata": {},
   "outputs": [
    {
     "data": {
      "text/plain": [
       "Text(0, 0.5, 'objective')"
      ]
     },
     "execution_count": 129,
     "metadata": {},
     "output_type": "execute_result"
    },
    {
     "data": {
      "image/png": "[encoded data removed]",
      "text/plain": [
       "<Figure size 432x288 with 1 Axes>"
      ]
     },
     "metadata": {
      "needs_background": "light"
     },
     "output_type": "display_data"
    }
   ],
   "source": [
    "## objective:\n",
    "\n",
    "num = 10\n",
    "ite_hist = np.zeros(num) \n",
    "obj_hist = np.zeros(num) \n",
    "temp = 0 \n",
    "dist = T/num # distance between 50 equally spaced points \n",
    "\n",
    "for i in np.arange(T): # try plot obj if i % dist == 0:\n",
    "    if i % dist == 0:\n",
    "        ite_hist[temp]=i\n",
    "        obj_hist[temp] = obj(X_train,y_train,w_hist[:,i],regparam)\n",
    "        temp+=1\n",
    "plt.plot(ite_hist, obj_hist) \n",
    "plt.title('SGD objective history') \n",
    "plt.xlabel('iteration') \n",
    "plt.ylabel('objective')"
   ]
  },
  {
   "cell_type": "code",
   "execution_count": 130,
   "metadata": {},
   "outputs": [
    {
     "name": "stderr",
     "output_type": "stream",
     "text": [
      "No handles with labels found to put in legend.\n"
     ]
    },
    {
     "data": {
      "text/plain": [
       "Text(0, 0.5, 'accuracy')"
      ]
     },
     "execution_count": 130,
     "metadata": {},
     "output_type": "execute_result"
    },
    {
     "data": {
      "image/png": "[encoded data removed]",
      "text/plain": [
       "<Figure size 432x288 with 1 Axes>"
      ]
     },
     "metadata": {
      "needs_background": "light"
     },
     "output_type": "display_data"
    }
   ],
   "source": [
    "## training accuracy:\n",
    "num = 10\n",
    "train_accu_hist = np.zeros(num)\n",
    "train_accu_hist_avg = np.zeros(num) \n",
    "for t in np.arange(0,T,T/num).astype(int):# assume T is multiple of ’num’. Set to integer.\n",
    "    w1 = w_hist[:,t] \n",
    "    w2 = w_avg[:,t]\n",
    "    w = w1[:d]\n",
    "    b = w1[d]\n",
    "    ww = w2[:d]\n",
    "    bb = w2[d]\n",
    "    train_correct = 0\n",
    "    train_correct_avg = 0 \n",
    "    for i in np.arange(n):\n",
    "        z = w@X_train[i]+b\n",
    "        zz = ww@X_train[i]+bb\n",
    "        if y_train[i]*z > 0:\n",
    "            train_correct+=1\n",
    "        if y_train[i]*zz > 0:\n",
    "            train_correct_avg+=1\n",
    "    train_accu = train_correct/n\n",
    "    train_accu_hist[np.int(t/(T/num))] = train_accu\n",
    "    \n",
    "    train_accu_avg = train_correct_avg/n\n",
    "    train_accu_hist_avg[np.int(t/(T/num))] = train_accu_avg\n",
    "    \n",
    "# print('Training Accuracy:')\n",
    "plt.plot(ite_hist, train_accu_hist) ## SGD \n",
    "plt.plot(ite_hist, train_accu_hist_avg) ## SGD \n",
    "# plt.legend()\n",
    "plt.title('SGD training accuracy') \n",
    "plt.xlabel('# data touched = iter * 32561')  # = iter for SGD, = iter * 32561 for GD \n",
    "plt.ylabel('accuracy') \n"
   ]
  },
  {
   "cell_type": "code",
   "execution_count": 105,
   "metadata": {},
   "outputs": [
    {
     "name": "stdout",
     "output_type": "stream",
     "text": [
      "Highest Test Accuracy:\n",
      "0.7525336281555187\n",
      "Highest Test Accuracy index:\n",
      "20\n"
     ]
    }
   ],
   "source": [
    "## Testing accuracy:\n",
    "n = np.size(X_test[:,0]) \n",
    "d = np.size(X_test[0])\n",
    "k=20 # only care every k iter here.\n",
    "num = np.int(T/k) # can’t use num = T for SGD, will take forever..\n",
    "test_accu_hist = np.zeros(num)\n",
    "for t in np.arange(0,T,T/num).astype(int):\n",
    "    w1 = 1/(t/2+1)*np.sum(w_hist[:,np.int(t/2):t], axis=1)\n",
    "    w = w1[:d]\n",
    "    b = w1[d]\n",
    "    test_correct = 0\n",
    "    for i in np.arange(n):\n",
    "        z = w@X_test[i]+b\n",
    "        if y_test[i]*z > 0:\n",
    "            test_correct+=1\n",
    "    test_accu = test_correct/n\n",
    "    test_accu_hist[np.int(t/(T/num))] = test_accu\n",
    "\n",
    "print('Highest Test Accuracy:') \n",
    "print(np.max(test_accu_hist)) \n",
    "print('Highest Test Accuracy index:') \n",
    "print(np.argmax(test_accu_hist)*k)"
   ]
  },
  {
   "cell_type": "code",
   "execution_count": null,
   "metadata": {},
   "outputs": [],
   "source": []
  }
 ],
 "metadata": {
  "kernelspec": {
   "display_name": "Python 3",
   "language": "python",
   "name": "python3"
  },
  "language_info": {
   "codemirror_mode": {
    "name": "ipython",
    "version": 3
   },
   "file_extension": ".py",
   "mimetype": "text/x-python",
   "name": "python",
   "nbconvert_exporter": "python",
   "pygments_lexer": "ipython3",
   "version": "3.7.4"
  }
 },
 "nbformat": 4,
 "nbformat_minor": 2
}
