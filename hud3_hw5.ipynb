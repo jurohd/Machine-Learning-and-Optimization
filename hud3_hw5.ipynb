{
 "cells": [
  {
   "cell_type": "code",
   "execution_count": 1,
   "metadata": {},
   "outputs": [],
   "source": [
    "import glob\n",
    "import os.path\n",
    "import numpy as np\n",
    "from PIL import Image\n",
    "import matplotlib.pyplot as plt\n",
    "from sklearn.model_selection import train_test_split\n",
    "from scipy.special import softmax\n",
    "from numpy import linalg as LA\n",
    "from numpy import random as rn\n",
    "from sklearn.metrics import accuracy_score\n",
    "from sklearn import preprocessing"
   ]
  },
  {
   "cell_type": "code",
   "execution_count": 2,
   "metadata": {},
   "outputs": [],
   "source": [
    "# Load the data and create a random (but reproducible) test-train split\n",
    "\n",
    "IMAGE_DIR = \"./data/data\"\n",
    "\n",
    "def load():\n",
    "    file_list = glob.glob(IMAGE_DIR + \"/*.jpg\")\n",
    "    X = []\n",
    "    Y = []\n",
    "\n",
    "    for fname in file_list:\n",
    "        with Image.open(fname) as img:\n",
    "            np_img = np.array(img).flatten()\n",
    "        label = int(os.path.split(fname)[-1].split('.')[0].split('_')[3])-1\n",
    "\n",
    "        X.append(np_img)\n",
    "        tempy = np.zeros(15)\n",
    "        tempy[label] = 1\n",
    "        Y.append(tempy)\n",
    "    X, Y = np.array(X), np.array(Y)\n",
    "    return X, Y\n",
    "\n",
    "# create test, train split\n",
    "X, Y = load()\n",
    "Xtrain, Xtest, Ytrain, Ytest = train_test_split(X, Y, train_size=0.8, random_state=2021)"
   ]
  },
  {
   "cell_type": "code",
   "execution_count": 3,
   "metadata": {},
   "outputs": [
    {
     "data": {
      "text/plain": [
       "<matplotlib.image.AxesImage at 0x137d20b10>"
      ]
     },
     "execution_count": 3,
     "metadata": {},
     "output_type": "execute_result"
    },
    {
     "data": {
      "image/png": "[encoded data removed]",
      "text/plain": [
       "<Figure size 432x288 with 1 Axes>"
      ]
     },
     "metadata": {
      "needs_background": "light"
     },
     "output_type": "display_data"
    }
   ],
   "source": [
    "# Example code fyi, if you want to view samples from the dataset\n",
    "plt.imshow(Xtrain[1].reshape((64,64)))"
   ]
  },
  {
   "cell_type": "code",
   "execution_count": 4,
   "metadata": {},
   "outputs": [],
   "source": [
    "# normalize \n",
    "scaler = preprocessing.StandardScaler().fit(Xtrain)\n",
    "Xtrain = scaler.transform(Xtrain)\n",
    "Xtest = scaler.transform(Xtest)"
   ]
  },
  {
   "cell_type": "code",
   "execution_count": 5,
   "metadata": {},
   "outputs": [],
   "source": [
    "def gradWloss(X, Y, W, b):\n",
    "    m = np.size(X, 1)\n",
    "    n = np.size(X, 0)\n",
    "    k = np.size(Y, 1)\n",
    "    grad = np.zeros((k, m))\n",
    "    gradW = (1/n)*((softmax(W@X.T+b,axis = 0)-Y.T)@X)\n",
    "    return gradW\n",
    "\n",
    "def gradbloss(X, Y, W, b):\n",
    "    m = np.size(X, 1)\n",
    "    n = np.size(X, 0)\n",
    "    x0 = np.ones((n, 1))\n",
    "    gradb = (1/n)*((-Y.T + (softmax(W@X.T+b,axis = 0)))@x0)\n",
    "    return gradb\n",
    "    "
   ]
  },
  {
   "cell_type": "code",
   "execution_count": 10,
   "metadata": {},
   "outputs": [],
   "source": [
    "def graddescent(X, Y, gradWloss, gradbloss, W1, b1, eta, a, tol,maxiter):\n",
    "    # calculate the gradient\n",
    "    db = gradbloss(X,Y,W1,b1)\n",
    "    dw = gradWloss(X,Y,W1,b1)\n",
    "    norm_w = np.amax(np.absolute(dw))\n",
    "    norm_b = np.amax(np.absolute(db))\n",
    "    maxNorm = max(norm_b,norm_w)\n",
    "    iter = 0\n",
    "    wb = np.append(W1,b1,axis = 1)\n",
    "    hist = [wb]\n",
    "    while maxNormgradnorm > tol and iter < maxiter: \n",
    "        W1 = W1 - (eta/(1+a*iter))*dw\n",
    "        b1 = b1 - (eta/(1+a*iter))*db\n",
    "        db = gradbloss(X,Y,W1,b1)\n",
    "        dw = gradWloss(X,Y,W1,b1)\n",
    "        norm_w = np.max(np.absolute(dw))\n",
    "        norm_b = np.max(np.absolute(db))\n",
    "        maxNormgradnorm = max(norm_b,norm_wgradwnorm)\n",
    "        hist = np.append(hist,[np.append(W1,b1,axis = 1)],axis = 0)\n",
    "        iter += 1\n",
    "\n",
    "    return hist"
   ]
  },
  {
   "cell_type": "code",
   "execution_count": 11,
   "metadata": {},
   "outputs": [],
   "source": [
    "def loss(X,Y,W,b):\n",
    "    N = X.shape[0]\n",
    "    Wx_b = X@W.T + b.reshape(1,-1)\n",
    "    E = np.exp(Wx_b)\n",
    "    return (1/N)*(-np.sum(Y *(Wx_b))+np.sum(np.log(np.sum(E,axis = 1))))\n",
    "\n",
    "def steepestdescent(X, Y, loss, gradWloss, gradbloss, W1,b1, alpha1, c, beta, tol,maxiter):\n",
    "    histcount = [0]\n",
    "    iter = 0\n",
    "    hist = [np.append(W1,b1,axis = 1)]\n",
    "    db = gradbloss(X,Y,W1,b1)\n",
    "    dw = gradWloss(X,Y,W1,b1)\n",
    "    norm_w,norm_b = np.amax(np.absolute(dw)),np.amax(np.absolute(db))\n",
    "    maxNorm = max(norm_w,norm_b)\n",
    "    count = 1\n",
    "    while maxNormgradnorm > tol and iter < maxiter:\n",
    "        alpha  = alpha1\n",
    "        lossp = loss(Xtrain,Ytrain,W1,b1) \n",
    "        diff = loss(Xtrain,Ytrain,W1-alpha*gradw1,b1-alpha*db) - lossp +  \\\n",
    "        c * alpha * (np.sum(np.trace(gradw1@np.transpose(gradw1)))+ np.transpose(db)@db)\n",
    "        count += count + 2 \n",
    "        while diff > 0: \n",
    "            alpha = alpha*beta\n",
    "            diff = loss(Xtrain,Ytrain,W1-alpha*gradw1,b1-alpha*gradb1) - lossp+  \\\n",
    "            c * alpha * (np.sum(np.trace(gradw1@np.transpose(gradw1)))+ np.transpose(db)@db)\n",
    "            count += count \n",
    "\n",
    "        W1 = W1 - (eta/(1+a*iter))*dw\n",
    "        b1 = b1 - (eta/(1+a*iter))*d\n",
    "        db = gradbloss(X,Y,W1,b1)\n",
    "        dw = gradWloss(X,Y,W1,b1)\n",
    "        norm_w = np.max(np.absolute(dw))\n",
    "        norm_b = np.max(np.absolute(db))\n",
    "        maxNorm = max(norm_b,norm_w)\n",
    "        hist = np.append(hist,[np.append(W1,b1,axis = 1)],axis = 0)\n",
    "        iter += 1\n",
    "        count += 1\n",
    "        histcount = np.append(histcount,count)\n",
    "    return hist,histcount"
   ]
  },
  {
   "cell_type": "code",
   "execution_count": 12,
   "metadata": {},
   "outputs": [],
   "source": [
    "# def predict(W, b, X):\n",
    "    \n",
    "#     m = X.shape[1]\n",
    "#     Y0 = softmax(np.dot(W.T, X) + b)\n",
    "#     print(Y0.shape)\n",
    "#     i = 0\n",
    "#     Y0=Y0.T\n",
    "#     for y in Y0:\n",
    "# #         print(i)\n",
    "#         ind = np.argmax(y)\n",
    "#         y = np.zeros(15)\n",
    "#         y[ind] = 1\n",
    "#         Y0[i] = y\n",
    "#         i += 1\n",
    "    \n",
    "#     return Y0.T"
   ]
  },
  {
   "cell_type": "code",
   "execution_count": 21,
   "metadata": {},
   "outputs": [],
   "source": [
    "# calculate the steepestgradient descent\n",
    "W1 = np.zeros((15,4096))\n",
    "b1 =np.zeros((15,1))\n",
    "hist,histcount =  steepestdescent(Xtrain, Ytrain, loss, gradWloss, gradbloss, W1,b1, 1, 0.8, 0.8, 1e-3,300)\n",
    "# calculate the accuracy for steepesgradient descent\n",
    "m = np.size(hist,0)\n",
    "acctrainsg = np.array([])\n",
    "acctestsg = np.array([])\n",
    "ytrainindex = np.argmax(Ytrain,axis = 1) \n",
    "ytestindex = np.argmax(Ytest,axis = 1)\n",
    "for i in range(m):\n",
    "    # calculate the predicted category\n",
    "    Wxtrain_b = Xtrain@hist[i,...,0:4096].T + hist[i,...,4096].reshape(1,-1)\n",
    "    ytrainpre = np.argmax(Wxtrain_b,axis = 1)\n",
    "    Wxtest_b = Xtest@hist[i,...,0:4096].T + hist[i,...,4096].reshape(1,-1)\n",
    "    ytestpre = np.argmax(Wxtest_b,axis = 1)\n",
    "    acctrainsg = np.append(acctrainsg,accuracy_score(ytrainindex,ytrainpre))\n",
    "    acctestsg = np.append(acctestsg,accuracy_score(ytestindex,ytestpre))  \n",
    "\n",
    "# calculate gradient descent\n",
    "W1 = np.zeros((15,4096))\n",
    "b1 =np.zeros((15,1))\n",
    "hist2 = graddescent(Xtrain, Ytrain, gradWloss, gradbloss, W1, b1, 4, 0.01, 1e-3,300)\n",
    "hist2 = np.array(hist2)\n",
    "# calculate the accuracy for gradient descent \n",
    "m = np.size(hist2,0)\n",
    "acctraingg = np.array([])\n",
    "acctestgg = np.array([])\n",
    "ytrainindex = np.argmax(Ytrain,axis = 1)\n",
    "ytestindex = np.argmax(Ytest,axis = 1)\n",
    "for i in range(m):\n",
    "    Wxtrain_b = Xtrain@hist2[i,...,0:4096].T + hist2[i,...,4096].reshape(1,-1)\n",
    "    ytrainpre = np.argmax(Wxtrain_b,axis = 1)\n",
    "    Wxtest_b = Xtest@hist2[i,...,0:4096].T + hist2[i,...,4096].reshape(1,-1)\n",
    "    ytestpre = np.argmax(Wxtest_b,axis = 1)\n",
    "    acctraingg = np.append(acctraingg,accuracy_score(ytrainindex,ytrainpre))\n",
    "    acctestgg = np.append(acctestgg,accuracy_score(ytestindex,ytestpre))  \n",
    "    \n"
   ]
  },
  {
   "cell_type": "code",
   "execution_count": 22,
   "metadata": {},
   "outputs": [
    {
     "data": {
      "text/plain": [
       "Text(0, 0.5, 'Percentage of accuracy')"
      ]
     },
     "execution_count": 22,
     "metadata": {},
     "output_type": "execute_result"
    },
    {
     "data": {
      "image/png": "[encoded data removed]",
      "text/plain": [
       "<Figure size 432x288 with 1 Axes>"
      ]
     },
     "metadata": {
      "needs_background": "light"
     },
     "output_type": "display_data"
    }
   ],
   "source": [
    "# plot with x-axis to be number of iteration\n",
    "plt.plot(np.arange(m),100*acctraingg,label = 'train accuracy for gd')\n",
    "plt.plot(np.arange(m),100*acctestgg,label = 'test accuracy for gd')\n",
    "plt.legend(loc=\"lower right\")\n",
    "plt.xlabel('number of ietration ')\n",
    "plt.ylabel('Percentage of accuracy')\n",
    "\n",
    "\n"
   ]
  },
  {
   "cell_type": "code",
   "execution_count": 24,
   "metadata": {},
   "outputs": [
    {
     "data": {
      "text/plain": [
       "Text(0, 0.5, 'Percentage of accuracy')"
      ]
     },
     "execution_count": 24,
     "metadata": {},
     "output_type": "execute_result"
    },
    {
     "data": {
      "image/png": "[encoded data removed]",
      "text/plain": [
       "<Figure size 432x288 with 1 Axes>"
      ]
     },
     "metadata": {
      "needs_background": "light"
     },
     "output_type": "display_data"
    }
   ],
   "source": [
    "\n",
    "plt.plot(np.arange(301),100*acctrainsg,label = 'train accuracy for sg')\n",
    "plt.plot(np.arange(301),100*acctestsg,label = 'test accuracy for sg')\n",
    "plt.legend(loc=\"lower right\")\n",
    "plt.xlabel('number of ietration ')\n",
    "plt.ylabel('Percentage of accuracy')"
   ]
  },
  {
   "cell_type": "code",
   "execution_count": null,
   "metadata": {},
   "outputs": [],
   "source": []
  }
 ],
 "metadata": {
  "kernelspec": {
   "display_name": "Python 3",
   "language": "python",
   "name": "python3"
  },
  "language_info": {
   "codemirror_mode": {
    "name": "ipython",
    "version": 3
   },
   "file_extension": ".py",
   "mimetype": "text/x-python",
   "name": "python",
   "nbconvert_exporter": "python",
   "pygments_lexer": "ipython3",
   "version": "3.7.4"
  }
 },
 "nbformat": 4,
 "nbformat_minor": 4
}
